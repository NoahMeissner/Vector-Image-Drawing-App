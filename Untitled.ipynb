{
 "cells": [
  {
   "cell_type": "markdown",
   "id": "8707cba2-1995-4861-8f20-10615674af9c",
   "metadata": {},
   "source": [
    "### Aufgabenstellung"
   ]
  },
  {
   "cell_type": "markdown",
   "id": "00786874-165a-4b11-a862-2937f492fbce",
   "metadata": {},
   "source": [
    "#### Verpflichtende Features"
   ]
  },
  {
   "metadata": {},
   "cell_type": "markdown",
   "source": [
    "Fertig\n",
    "- Zeichnen von geraden Linien mit der linken Maustaste (check)\n",
    "- Zeichnen von quadratischen Bezier-Kurven, indem für jede gezeichnete Linie in der Mitte ein Kontrollpunkt gezeichnet wird, der gezogen werden kann (check)\n",
    "- Alle End-/Eck-/Kontrollpunkte sollen als kleine Rechtecke (z.B. 5×5 px) dargestellt werden und mit der Maus verschoben werden können (check)\n",
    "- Mittels der Taste 'x' kann man die End-/Eck-/Kontrollpunkte ein-/ausblenden (check)\n",
    "- Mittels der Taste 'c' kann man den Canvas leeren (check)"
   ],
   "id": "8d464b9e660b61da"
  },
  {
   "cell_type": "markdown",
   "id": "0a0812d7-7697-445c-9007-9f091ece208c",
   "metadata": {},
   "source": [
    "Noch zu erledigen\n",
    "- Zeichnen von gefüllten Polygonen (selbst implementiert)\n",
    "- Mit der mittleren Maustaste kann der gesamte Canvas verschoben werden \n"
   ]
  },
  {
   "cell_type": "markdown",
   "id": "81f6d28c-466e-4669-884f-ace99061b37a",
   "metadata": {},
   "source": "#### Wahlp  flichtfeatures"
  },
  {
   "cell_type": "markdown",
   "id": "239a957b-3f8c-4bc5-b72b-8581187dba06",
   "metadata": {},
   "source": [
    "- Zoomen mit dem Scrollrad (Liniendicke bleibt konstant 1 px)\n",
    "- Füllen mit Mustern / Schraffuren\n",
    "- Zeichnen von Rechtecken oder Kreisen mit der rechten Maustaste\n",
    "- effizientes Neuzeichnen des Bildschirms nur dort, wo sich etwas verändert hat\n",
    "- Antialiasing der Linien\n",
    "(eigenes Feature vorschlagen)\n"
   ]
  },
  {
   "cell_type": "code",
   "execution_count": null,
   "id": "e7267db7-b784-47ed-8ad0-edb8e170c29a",
   "metadata": {},
   "outputs": [],
   "source": [
    "- Zeichnen mit Farben (Auswahldialog von tkinter verwenden)\n",
    "- Füllen mit Mustern / Schraffuren\n",
    "- Speichern und Laden der Grafik"
   ]
  }
 ],
 "metadata": {
  "kernelspec": {
   "display_name": "Python 3 (ipykernel)",
   "language": "python",
   "name": "python3"
  },
  "language_info": {
   "codemirror_mode": {
    "name": "ipython",
    "version": 3
   },
   "file_extension": ".py",
   "mimetype": "text/x-python",
   "name": "python",
   "nbconvert_exporter": "python",
   "pygments_lexer": "ipython3",
   "version": "3.11.7"
  }
 },
 "nbformat": 4,
 "nbformat_minor": 5
}
